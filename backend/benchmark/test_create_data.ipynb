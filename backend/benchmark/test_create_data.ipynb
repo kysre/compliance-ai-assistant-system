{
 "cells": [
  {
   "cell_type": "markdown",
   "id": "f815a9ee-34e1-4575-af67-a6f3638c3b6d",
   "metadata": {},
   "source": [
    "# Prepare Test Data"
   ]
  },
  {
   "cell_type": "code",
   "execution_count": 98,
   "id": "2f31356b-f891-4d90-a3b3-e2ed800c5e2d",
   "metadata": {},
   "outputs": [],
   "source": [
    "import json\n",
    "import os\n",
    "import pandas as pd\n",
    "import numpy as np\n",
    "from openai import OpenAI"
   ]
  },
  {
   "cell_type": "markdown",
   "id": "ca5c6eb9-d0b4-4133-82d4-3fbcfd9b45c4",
   "metadata": {},
   "source": [
    "## Load Data"
   ]
  },
  {
   "cell_type": "code",
   "execution_count": 2,
   "id": "93bf6046-f7e7-43ca-94e8-47e5651a1cbe",
   "metadata": {},
   "outputs": [
    {
     "data": {
      "text/html": [
       "<div>\n",
       "<style scoped>\n",
       "    .dataframe tbody tr th:only-of-type {\n",
       "        vertical-align: middle;\n",
       "    }\n",
       "\n",
       "    .dataframe tbody tr th {\n",
       "        vertical-align: top;\n",
       "    }\n",
       "\n",
       "    .dataframe thead th {\n",
       "        text-align: right;\n",
       "    }\n",
       "</style>\n",
       "<table border=\"1\" class=\"dataframe\">\n",
       "  <thead>\n",
       "    <tr style=\"text-align: right;\">\n",
       "      <th></th>\n",
       "      <th>id</th>\n",
       "      <th>title</th>\n",
       "      <th>date</th>\n",
       "      <th>authority</th>\n",
       "      <th>link</th>\n",
       "      <th>text</th>\n",
       "    </tr>\n",
       "  </thead>\n",
       "  <tbody>\n",
       "    <tr>\n",
       "      <th>0</th>\n",
       "      <td>10039483578855183172</td>\n",
       "      <td>بخشنامه وزير امور اقتصاد و دارايي درخصوص ابلاغ...</td>\n",
       "      <td>1403/12/09</td>\n",
       "      <td>وزارت امور اقتصادي و دارايي</td>\n",
       "      <td>https://qavanin.ir/Law/TreeText/?IDS=100394835...</td>\n",
       "      <td>شوراي ملي تأمين مالي در جلسه مورخ 1403/11/3، ب...</td>\n",
       "    </tr>\n",
       "    <tr>\n",
       "      <th>1</th>\n",
       "      <td>7763732820750459420</td>\n",
       "      <td>بخشنامه وزير امور اقتصادي و دارايي در خصوص اصل...</td>\n",
       "      <td>1403/11/02</td>\n",
       "      <td>وزير امور اقتصادي و دارايي</td>\n",
       "      <td>https://qavanin.ir/Law/TreeText/?IDS=776373282...</td>\n",
       "      <td>پيرو دستورالعمل شماره 57427 مورخ 1403/03/30، ب...</td>\n",
       "    </tr>\n",
       "    <tr>\n",
       "      <th>2</th>\n",
       "      <td>18423365907747591926</td>\n",
       "      <td>مصوبات دهمين جلسه شوراي ملي تامين مالي</td>\n",
       "      <td>1403/11/01</td>\n",
       "      <td>وزارت امور اقتصادي و دارايي</td>\n",
       "      <td>https://qavanin.ir/Law/TreeText/?IDS=184233659...</td>\n",
       "      <td>پيرو دعوت نامه شماره 80/196961 مورخ 1403/11/1 ...</td>\n",
       "    </tr>\n",
       "    <tr>\n",
       "      <th>3</th>\n",
       "      <td>10565502568760114784</td>\n",
       "      <td>مصوبه هيأت مديره سازمان بورس و اوراق بهادار در...</td>\n",
       "      <td>1403/11/01</td>\n",
       "      <td>هيات مديره سازمان بورس و اوراق بهادار</td>\n",
       "      <td>https://qavanin.ir/Law/TreeText/?IDS=105655025...</td>\n",
       "      <td>ابلاغ بند 5 نهصد و هشتاد و سومين صورتجلسه هيأت...</td>\n",
       "    </tr>\n",
       "    <tr>\n",
       "      <th>4</th>\n",
       "      <td>8335813245330855048</td>\n",
       "      <td>مصوبه هيأت مديره سازمان بورس و اوراق بهادار در...</td>\n",
       "      <td>1403/10/23</td>\n",
       "      <td>هيات مديره سازمان بورس و اوراق بهادار</td>\n",
       "      <td>https://qavanin.ir/Law/TreeText/?IDS=833581324...</td>\n",
       "      <td>ابلاغ بند 2 نهصد و هشتاد و يكمين صورتجلسه هيأت...</td>\n",
       "    </tr>\n",
       "  </tbody>\n",
       "</table>\n",
       "</div>"
      ],
      "text/plain": [
       "                     id                                              title  \\\n",
       "0  10039483578855183172  بخشنامه وزير امور اقتصاد و دارايي درخصوص ابلاغ...   \n",
       "1   7763732820750459420  بخشنامه وزير امور اقتصادي و دارايي در خصوص اصل...   \n",
       "2  18423365907747591926             مصوبات دهمين جلسه شوراي ملي تامين مالي   \n",
       "3  10565502568760114784  مصوبه هيأت مديره سازمان بورس و اوراق بهادار در...   \n",
       "4   8335813245330855048  مصوبه هيأت مديره سازمان بورس و اوراق بهادار در...   \n",
       "\n",
       "         date                              authority  \\\n",
       "0  1403/12/09            وزارت امور اقتصادي و دارايي   \n",
       "1  1403/11/02             وزير امور اقتصادي و دارايي   \n",
       "2  1403/11/01            وزارت امور اقتصادي و دارايي   \n",
       "3  1403/11/01  هيات مديره سازمان بورس و اوراق بهادار   \n",
       "4  1403/10/23  هيات مديره سازمان بورس و اوراق بهادار   \n",
       "\n",
       "                                                link  \\\n",
       "0  https://qavanin.ir/Law/TreeText/?IDS=100394835...   \n",
       "1  https://qavanin.ir/Law/TreeText/?IDS=776373282...   \n",
       "2  https://qavanin.ir/Law/TreeText/?IDS=184233659...   \n",
       "3  https://qavanin.ir/Law/TreeText/?IDS=105655025...   \n",
       "4  https://qavanin.ir/Law/TreeText/?IDS=833581324...   \n",
       "\n",
       "                                                text  \n",
       "0  شوراي ملي تأمين مالي در جلسه مورخ 1403/11/3، ب...  \n",
       "1  پيرو دستورالعمل شماره 57427 مورخ 1403/03/30، ب...  \n",
       "2  پيرو دعوت نامه شماره 80/196961 مورخ 1403/11/1 ...  \n",
       "3  ابلاغ بند 5 نهصد و هشتاد و سومين صورتجلسه هيأت...  \n",
       "4  ابلاغ بند 2 نهصد و هشتاد و يكمين صورتجلسه هيأت...  "
      ]
     },
     "execution_count": 2,
     "metadata": {},
     "output_type": "execute_result"
    }
   ],
   "source": [
    "with open(\"inserted_rules.json\", \"r\", encoding=\"utf-8\") as f:\n",
    "    rules_list = json.load(f)\n",
    "df = pd.DataFrame(rules_list)\n",
    "df.head()"
   ]
  },
  {
   "cell_type": "code",
   "execution_count": 4,
   "id": "842b5744-da4d-45d9-bd58-ac5790a8753e",
   "metadata": {},
   "outputs": [
    {
     "data": {
      "text/plain": [
       "564"
      ]
     },
     "execution_count": 4,
     "metadata": {},
     "output_type": "execute_result"
    }
   ],
   "source": [
    "len(df)"
   ]
  },
  {
   "cell_type": "code",
   "execution_count": 5,
   "id": "627e4c7a-2b8c-4553-8f3e-bb525127b02e",
   "metadata": {},
   "outputs": [
    {
     "data": {
      "text/html": [
       "<div>\n",
       "<style scoped>\n",
       "    .dataframe tbody tr th:only-of-type {\n",
       "        vertical-align: middle;\n",
       "    }\n",
       "\n",
       "    .dataframe tbody tr th {\n",
       "        vertical-align: top;\n",
       "    }\n",
       "\n",
       "    .dataframe thead th {\n",
       "        text-align: right;\n",
       "    }\n",
       "</style>\n",
       "<table border=\"1\" class=\"dataframe\">\n",
       "  <thead>\n",
       "    <tr style=\"text-align: right;\">\n",
       "      <th></th>\n",
       "      <th>id</th>\n",
       "      <th>title</th>\n",
       "      <th>date</th>\n",
       "      <th>authority</th>\n",
       "      <th>link</th>\n",
       "      <th>text</th>\n",
       "      <th>text_len</th>\n",
       "    </tr>\n",
       "  </thead>\n",
       "  <tbody>\n",
       "    <tr>\n",
       "      <th>0</th>\n",
       "      <td>10039483578855183172</td>\n",
       "      <td>بخشنامه وزير امور اقتصاد و دارايي درخصوص ابلاغ...</td>\n",
       "      <td>1403/12/09</td>\n",
       "      <td>وزارت امور اقتصادي و دارايي</td>\n",
       "      <td>https://qavanin.ir/Law/TreeText/?IDS=100394835...</td>\n",
       "      <td>شوراي ملي تأمين مالي در جلسه مورخ 1403/11/3، ب...</td>\n",
       "      <td>6710</td>\n",
       "    </tr>\n",
       "    <tr>\n",
       "      <th>1</th>\n",
       "      <td>7763732820750459420</td>\n",
       "      <td>بخشنامه وزير امور اقتصادي و دارايي در خصوص اصل...</td>\n",
       "      <td>1403/11/02</td>\n",
       "      <td>وزير امور اقتصادي و دارايي</td>\n",
       "      <td>https://qavanin.ir/Law/TreeText/?IDS=776373282...</td>\n",
       "      <td>پيرو دستورالعمل شماره 57427 مورخ 1403/03/30، ب...</td>\n",
       "      <td>721</td>\n",
       "    </tr>\n",
       "    <tr>\n",
       "      <th>2</th>\n",
       "      <td>18423365907747591926</td>\n",
       "      <td>مصوبات دهمين جلسه شوراي ملي تامين مالي</td>\n",
       "      <td>1403/11/01</td>\n",
       "      <td>وزارت امور اقتصادي و دارايي</td>\n",
       "      <td>https://qavanin.ir/Law/TreeText/?IDS=184233659...</td>\n",
       "      <td>پيرو دعوت نامه شماره 80/196961 مورخ 1403/11/1 ...</td>\n",
       "      <td>48357</td>\n",
       "    </tr>\n",
       "    <tr>\n",
       "      <th>3</th>\n",
       "      <td>10565502568760114784</td>\n",
       "      <td>مصوبه هيأت مديره سازمان بورس و اوراق بهادار در...</td>\n",
       "      <td>1403/11/01</td>\n",
       "      <td>هيات مديره سازمان بورس و اوراق بهادار</td>\n",
       "      <td>https://qavanin.ir/Law/TreeText/?IDS=105655025...</td>\n",
       "      <td>ابلاغ بند 5 نهصد و هشتاد و سومين صورتجلسه هيأت...</td>\n",
       "      <td>578</td>\n",
       "    </tr>\n",
       "    <tr>\n",
       "      <th>4</th>\n",
       "      <td>8335813245330855048</td>\n",
       "      <td>مصوبه هيأت مديره سازمان بورس و اوراق بهادار در...</td>\n",
       "      <td>1403/10/23</td>\n",
       "      <td>هيات مديره سازمان بورس و اوراق بهادار</td>\n",
       "      <td>https://qavanin.ir/Law/TreeText/?IDS=833581324...</td>\n",
       "      <td>ابلاغ بند 2 نهصد و هشتاد و يكمين صورتجلسه هيأت...</td>\n",
       "      <td>1081</td>\n",
       "    </tr>\n",
       "  </tbody>\n",
       "</table>\n",
       "</div>"
      ],
      "text/plain": [
       "                     id                                              title  \\\n",
       "0  10039483578855183172  بخشنامه وزير امور اقتصاد و دارايي درخصوص ابلاغ...   \n",
       "1   7763732820750459420  بخشنامه وزير امور اقتصادي و دارايي در خصوص اصل...   \n",
       "2  18423365907747591926             مصوبات دهمين جلسه شوراي ملي تامين مالي   \n",
       "3  10565502568760114784  مصوبه هيأت مديره سازمان بورس و اوراق بهادار در...   \n",
       "4   8335813245330855048  مصوبه هيأت مديره سازمان بورس و اوراق بهادار در...   \n",
       "\n",
       "         date                              authority  \\\n",
       "0  1403/12/09            وزارت امور اقتصادي و دارايي   \n",
       "1  1403/11/02             وزير امور اقتصادي و دارايي   \n",
       "2  1403/11/01            وزارت امور اقتصادي و دارايي   \n",
       "3  1403/11/01  هيات مديره سازمان بورس و اوراق بهادار   \n",
       "4  1403/10/23  هيات مديره سازمان بورس و اوراق بهادار   \n",
       "\n",
       "                                                link  \\\n",
       "0  https://qavanin.ir/Law/TreeText/?IDS=100394835...   \n",
       "1  https://qavanin.ir/Law/TreeText/?IDS=776373282...   \n",
       "2  https://qavanin.ir/Law/TreeText/?IDS=184233659...   \n",
       "3  https://qavanin.ir/Law/TreeText/?IDS=105655025...   \n",
       "4  https://qavanin.ir/Law/TreeText/?IDS=833581324...   \n",
       "\n",
       "                                                text  text_len  \n",
       "0  شوراي ملي تأمين مالي در جلسه مورخ 1403/11/3، ب...      6710  \n",
       "1  پيرو دستورالعمل شماره 57427 مورخ 1403/03/30، ب...       721  \n",
       "2  پيرو دعوت نامه شماره 80/196961 مورخ 1403/11/1 ...     48357  \n",
       "3  ابلاغ بند 5 نهصد و هشتاد و سومين صورتجلسه هيأت...       578  \n",
       "4  ابلاغ بند 2 نهصد و هشتاد و يكمين صورتجلسه هيأت...      1081  "
      ]
     },
     "execution_count": 5,
     "metadata": {},
     "output_type": "execute_result"
    }
   ],
   "source": [
    "df['text_len'] = df['text'].apply(len)\n",
    "df.head()"
   ]
  },
  {
   "cell_type": "markdown",
   "id": "21571f78-ce9a-49ae-b249-864635b39acc",
   "metadata": {},
   "source": [
    "## Text Length Histogram"
   ]
  },
  {
   "cell_type": "code",
   "execution_count": 6,
   "id": "7dac13e0-00cb-43a9-b300-ef4c277635b0",
   "metadata": {},
   "outputs": [
    {
     "name": "stderr",
     "output_type": "stream",
     "text": [
      "Matplotlib is building the font cache; this may take a moment.\n"
     ]
    },
    {
     "data": {
      "image/png": "[encoded data removed]",
      "text/plain": [
       "<Figure size 1000x600 with 1 Axes>"
      ]
     },
     "metadata": {},
     "output_type": "display_data"
    }
   ],
   "source": [
    "import matplotlib.pyplot as plt\n",
    "\n",
    "plt.figure(figsize=(10, 6))\n",
    "plt.hist(df['text_len'], bins=50, edgecolor='black')\n",
    "plt.yscale('log')  # Set logarithmic scale for count axis\n",
    "plt.xlabel('Text Length')\n",
    "plt.ylabel('Count (log scale)')\n",
    "plt.title('Histogram of Text Lengths (Log Scale)')\n",
    "plt.tight_layout()\n",
    "plt.grid(alpha=0.3)\n",
    "plt.show()"
   ]
  },
  {
   "cell_type": "code",
   "execution_count": 28,
   "id": "3156c63b-205b-4f4a-87d2-c0977ade225d",
   "metadata": {},
   "outputs": [
    {
     "data": {
      "text/plain": [
       "445"
      ]
     },
     "execution_count": 28,
     "metadata": {},
     "output_type": "execute_result"
    }
   ],
   "source": [
    "len(df[(500 < df['text_len']) & (df['text_len'] < 4000)])"
   ]
  },
  {
   "cell_type": "code",
   "execution_count": 18,
   "id": "d516ffee-5a5d-4b56-89fe-ac314b407b6f",
   "metadata": {},
   "outputs": [
    {
     "data": {
      "text/plain": [
       "2705.5106382978724"
      ]
     },
     "execution_count": 18,
     "metadata": {},
     "output_type": "execute_result"
    }
   ],
   "source": [
    "np.mean(df['text_len'])"
   ]
  },
  {
   "cell_type": "code",
   "execution_count": 19,
   "id": "dc18a18c-9c96-45fb-9edd-f46e49f182b6",
   "metadata": {},
   "outputs": [
    {
     "data": {
      "text/plain": [
       "1235.5"
      ]
     },
     "execution_count": 19,
     "metadata": {},
     "output_type": "execute_result"
    }
   ],
   "source": [
    "np.median(df['text_len'])"
   ]
  },
  {
   "cell_type": "code",
   "execution_count": 21,
   "id": "e3836731-ecb6-46e6-b475-fff07e490453",
   "metadata": {},
   "outputs": [
    {
     "data": {
      "text/plain": [
       "5530.2607256032015"
      ]
     },
     "execution_count": 21,
     "metadata": {},
     "output_type": "execute_result"
    }
   ],
   "source": [
    "np.std(df['text_len'])"
   ]
  },
  {
   "cell_type": "markdown",
   "id": "4b838c0d-6947-49d5-b72a-9298ad02804f",
   "metadata": {},
   "source": [
    "## Create random sample"
   ]
  },
  {
   "cell_type": "code",
   "execution_count": 29,
   "id": "6d979b41-acf2-4e90-81ce-ccd7766983cc",
   "metadata": {},
   "outputs": [],
   "source": [
    "test_df = df[(500 < df['text_len']) & (df['text_len'] < 4000)]"
   ]
  },
  {
   "cell_type": "code",
   "execution_count": 30,
   "id": "3dcba72f-8826-4577-abf7-d7accfb37fed",
   "metadata": {},
   "outputs": [
    {
     "data": {
      "text/html": [
       "<div>\n",
       "<style scoped>\n",
       "    .dataframe tbody tr th:only-of-type {\n",
       "        vertical-align: middle;\n",
       "    }\n",
       "\n",
       "    .dataframe tbody tr th {\n",
       "        vertical-align: top;\n",
       "    }\n",
       "\n",
       "    .dataframe thead th {\n",
       "        text-align: right;\n",
       "    }\n",
       "</style>\n",
       "<table border=\"1\" class=\"dataframe\">\n",
       "  <thead>\n",
       "    <tr style=\"text-align: right;\">\n",
       "      <th></th>\n",
       "      <th>id</th>\n",
       "      <th>title</th>\n",
       "      <th>date</th>\n",
       "      <th>authority</th>\n",
       "      <th>link</th>\n",
       "      <th>text</th>\n",
       "      <th>text_len</th>\n",
       "    </tr>\n",
       "  </thead>\n",
       "  <tbody>\n",
       "    <tr>\n",
       "      <th>1</th>\n",
       "      <td>7763732820750459420</td>\n",
       "      <td>بخشنامه وزير امور اقتصادي و دارايي در خصوص اصل...</td>\n",
       "      <td>1403/11/02</td>\n",
       "      <td>وزير امور اقتصادي و دارايي</td>\n",
       "      <td>https://qavanin.ir/Law/TreeText/?IDS=776373282...</td>\n",
       "      <td>پيرو دستورالعمل شماره 57427 مورخ 1403/03/30، ب...</td>\n",
       "      <td>721</td>\n",
       "    </tr>\n",
       "    <tr>\n",
       "      <th>3</th>\n",
       "      <td>10565502568760114784</td>\n",
       "      <td>مصوبه هيأت مديره سازمان بورس و اوراق بهادار در...</td>\n",
       "      <td>1403/11/01</td>\n",
       "      <td>هيات مديره سازمان بورس و اوراق بهادار</td>\n",
       "      <td>https://qavanin.ir/Law/TreeText/?IDS=105655025...</td>\n",
       "      <td>ابلاغ بند 5 نهصد و هشتاد و سومين صورتجلسه هيأت...</td>\n",
       "      <td>578</td>\n",
       "    </tr>\n",
       "    <tr>\n",
       "      <th>4</th>\n",
       "      <td>8335813245330855048</td>\n",
       "      <td>مصوبه هيأت مديره سازمان بورس و اوراق بهادار در...</td>\n",
       "      <td>1403/10/23</td>\n",
       "      <td>هيات مديره سازمان بورس و اوراق بهادار</td>\n",
       "      <td>https://qavanin.ir/Law/TreeText/?IDS=833581324...</td>\n",
       "      <td>ابلاغ بند 2 نهصد و هشتاد و يكمين صورتجلسه هيأت...</td>\n",
       "      <td>1081</td>\n",
       "    </tr>\n",
       "    <tr>\n",
       "      <th>5</th>\n",
       "      <td>134264446149255105</td>\n",
       "      <td>مصوبه هيأت مديره سازمان بورس و اوراق بهادار در...</td>\n",
       "      <td>1403/10/20</td>\n",
       "      <td>هيات مديره سازمان بورس و اوراق بهادار</td>\n",
       "      <td>https://qavanin.ir/Law/TreeText/?IDS=134264446...</td>\n",
       "      <td>بند 1 نهصد و هشتادمين صورتجلسة هيئت مديره سازم...</td>\n",
       "      <td>830</td>\n",
       "    </tr>\n",
       "    <tr>\n",
       "      <th>6</th>\n",
       "      <td>15968912379000703177</td>\n",
       "      <td>دستور العمل سازمان امور مالياتي در خصوص ترتيبا...</td>\n",
       "      <td>1403/10/17</td>\n",
       "      <td>سازمان امور مالياتي</td>\n",
       "      <td>https://qavanin.ir/Law/TreeText/?IDS=159689123...</td>\n",
       "      <td>با توجه به صدور دادنامه هيئت عمومي ديوان عدالت...</td>\n",
       "      <td>2309</td>\n",
       "    </tr>\n",
       "  </tbody>\n",
       "</table>\n",
       "</div>"
      ],
      "text/plain": [
       "                     id                                              title  \\\n",
       "1   7763732820750459420  بخشنامه وزير امور اقتصادي و دارايي در خصوص اصل...   \n",
       "3  10565502568760114784  مصوبه هيأت مديره سازمان بورس و اوراق بهادار در...   \n",
       "4   8335813245330855048  مصوبه هيأت مديره سازمان بورس و اوراق بهادار در...   \n",
       "5    134264446149255105  مصوبه هيأت مديره سازمان بورس و اوراق بهادار در...   \n",
       "6  15968912379000703177  دستور العمل سازمان امور مالياتي در خصوص ترتيبا...   \n",
       "\n",
       "         date                              authority  \\\n",
       "1  1403/11/02             وزير امور اقتصادي و دارايي   \n",
       "3  1403/11/01  هيات مديره سازمان بورس و اوراق بهادار   \n",
       "4  1403/10/23  هيات مديره سازمان بورس و اوراق بهادار   \n",
       "5  1403/10/20  هيات مديره سازمان بورس و اوراق بهادار   \n",
       "6  1403/10/17                    سازمان امور مالياتي   \n",
       "\n",
       "                                                link  \\\n",
       "1  https://qavanin.ir/Law/TreeText/?IDS=776373282...   \n",
       "3  https://qavanin.ir/Law/TreeText/?IDS=105655025...   \n",
       "4  https://qavanin.ir/Law/TreeText/?IDS=833581324...   \n",
       "5  https://qavanin.ir/Law/TreeText/?IDS=134264446...   \n",
       "6  https://qavanin.ir/Law/TreeText/?IDS=159689123...   \n",
       "\n",
       "                                                text  text_len  \n",
       "1  پيرو دستورالعمل شماره 57427 مورخ 1403/03/30، ب...       721  \n",
       "3  ابلاغ بند 5 نهصد و هشتاد و سومين صورتجلسه هيأت...       578  \n",
       "4  ابلاغ بند 2 نهصد و هشتاد و يكمين صورتجلسه هيأت...      1081  \n",
       "5  بند 1 نهصد و هشتادمين صورتجلسة هيئت مديره سازم...       830  \n",
       "6  با توجه به صدور دادنامه هيئت عمومي ديوان عدالت...      2309  "
      ]
     },
     "execution_count": 30,
     "metadata": {},
     "output_type": "execute_result"
    }
   ],
   "source": [
    "test_df.head()"
   ]
  },
  {
   "cell_type": "code",
   "execution_count": 31,
   "id": "1673e7a0-a10b-4315-96c8-ba67b74e60fd",
   "metadata": {},
   "outputs": [],
   "source": [
    "sample_df = test_df.sample(n=50, random_state=42)"
   ]
  },
  {
   "cell_type": "code",
   "execution_count": 33,
   "id": "7ed4fe3b-1091-4b17-b288-2652580ce107",
   "metadata": {},
   "outputs": [
    {
     "data": {
      "text/plain": [
       "'شوراي اقتصاد در جلسه مورخ 23 /12 /1383،  بنا به درخواست شماره 20924 /11 مورخ 18 /11 /1383 آن وزارتخانه، احداث و بهره برداري منطقه يك آزادراه تهران- شمال به طول سي و دو (32) كيلومتر توسط شركت آزادراه تهران- شمال با استفاده از تسهيلات مالي خارجي را به استناد جزء ۱ بند «ج» ماده ۸۵ قانون برنامه سوم توسعه اقتصادي، اجتماعي و فرهنگي جمهوري اسلامي ايران مورد بررسي قرارداد و ضمن تاييد توجيه فني و اقتصادي طرح مذكور با اجراي آن مشروط به رعايت موارد زير موافقت نمود: 1 (اصلاحي 16ˏ02ˏ1385)– حداكثر مبلغ سي و چهار ميليون و هفتصد و هشتاد و دو هزار و هفتصد و نود و دو (792 /782 /34) دلار به عنوان پيش پرداخت و ميان پرداخت، به علاوه يكصد و هشتاد و هفت ميليون (000 /000 /187) دلار تسهيلات فاينانس به صورت خالص و هزينه هاي تبعي مشتمل بر سود و كارمزد، بيمه و ساير هزينه ها معادل شصت و هفت ميليون و چهارصد و هفتاد و پنج هزار و چهارصد و شصت و نه و سي و سه صدم (33 /469 /475 /67) دلار از محل تسهيلات جزء 1 بند «ز» تبصره 21 قانون بودجه سال 1381 كل كشور، اختصاص يابد. ۲- شرايط زيست محيطي رعايت گردد. ۳- حداقل معادل شصت و پنج درصد (۶۵ ٪) ارزش عمليات اجرايي كل طرح با استفاده از امكانات و توانايي هاي ساخت داخل انجام گيرد. ۴- معادل پنجاه درصد (۵۰ ٪) بازپرداخت تسهيلات دريافتي توسط بنياد مستضعفان و جانبازان تضمين و بازپرداخت گردد. ۵- مبلغ پيش پرداخت و ميان پرداخت تسهيلات مذكور توسط بنياد مستضعفان و جانبازان تامين و پرداخت گردد. ۶- بازپرداخت تسهيلات دريافتي بر اساس جدول پيوست و با تاييد بانك مركزي جمهوري اسلامي ايران انجام شود. ۷- اعتبار اين مصوبه تا زمان گشايش اعتبار اسنادي حداكثر، مدت يك سال از زمان صدور مصوبه مي باشد. ۸ - وزارت راه و ترابري مكلف است، تا شروع بهره برداري از طرح گزارش پيشرفت كار را در مقاطع شش ماهه به سازمان مديريت و برنامه ريزي كشور ارايه نمايد. حميد شركاء معاون رييس جمهور و رييس سازمان اصلاح مصوبه آزادراه تهران – شمال -پيوست مصوبه شماره 27901 /309 مورخ 23 /2 /1385 شوراي اقتصاد زمانبندي بازپرداخت تسهيلات دريافتي واحد: دلار'"
      ]
     },
     "execution_count": 33,
     "metadata": {},
     "output_type": "execute_result"
    }
   ],
   "source": [
    "sample_df.iloc[0].text"
   ]
  },
  {
   "cell_type": "code",
   "execution_count": 42,
   "id": "264b6792-2f51-4759-987f-7c6a113f1294",
   "metadata": {},
   "outputs": [
    {
     "data": {
      "text/plain": [
       "50"
      ]
     },
     "execution_count": 42,
     "metadata": {},
     "output_type": "execute_result"
    }
   ],
   "source": [
    "sample_ids = []\n",
    "for i in range(len(sample_df)):\n",
    "    sample_ids.append(str(sample_df.iloc[i]['id']))\n",
    "sample_rules = []\n",
    "for r in rules_list:\n",
    "    if r['id'] in sample_ids:\n",
    "        sample_rules.append(r)\n",
    "len(sample_rules)"
   ]
  },
  {
   "cell_type": "code",
   "execution_count": 43,
   "id": "a5729a38-4838-490a-872a-8a230bd9308b",
   "metadata": {},
   "outputs": [],
   "source": [
    "with open(\"sample.json\", \"w\", encoding=\"utf-8\") as f:\n",
    "    json.dump(sample_rules, f, indent=4, ensure_ascii=False)"
   ]
  },
  {
   "cell_type": "markdown",
   "id": "b6454842-d7c2-4a9e-8904-d750ac2fde48",
   "metadata": {},
   "source": [
    "## Create noncompliant data"
   ]
  },
  {
   "cell_type": "code",
   "execution_count": null,
   "id": "73b41799",
   "metadata": {},
   "outputs": [],
   "source": [
    "llm_base_url = os.getenv(\"LLM_BASE_URL\")\n",
    "llm_api_key = os.getenv(\"LLM_API_KEY\")\n",
    "\n",
    "client = OpenAI(\n",
    "  base_url=llm_base_url,\n",
    "  api_key=llm_api_key,\n",
    ")"
   ]
  },
  {
   "cell_type": "code",
   "execution_count": 101,
   "id": "f7cacd7f-b191-493b-aaba-d728a1a23a11",
   "metadata": {},
   "outputs": [],
   "source": [
    "def call_gemini(prompt):\n",
    "    completion = client.chat.completions.create(\n",
    "      model=\"google/gemini-2.5-pro-preview-06-05\",\n",
    "      messages=[\n",
    "        {\n",
    "          \"role\": \"user\",\n",
    "          \"content\": [\n",
    "            {\n",
    "              \"type\": \"text\",\n",
    "              \"text\": prompt\n",
    "            }\n",
    "          ]\n",
    "        }\n",
    "      ]\n",
    "    )\n",
    "    return completion.choices[0].message.content"
   ]
  },
  {
   "cell_type": "code",
   "execution_count": 92,
   "id": "55b208f1-df42-48c9-9ed6-72ec6310b857",
   "metadata": {
    "scrolled": true
   },
   "outputs": [],
   "source": [
    "test_creation_prompt = '''You are an expert in designing test data for regulation compliance analysis. You have to create 4 test data types according to the text of the regulation:\n",
    "compliant: this is a regulation which is compliant with the provided text\n",
    "sentence-noncompliant: this is a regulation which is not compliant with the provided text in only one sentence or condition. for this provide sentence-noncompliant-desc (a very short explanation why it is not compliant)\n",
    "half-noncompliant: this is a regulation which is not compliant with the provided text in about half of the conditions. for this provide half-noncompliant-desc (a very short explanation why it is not compliant)\n",
    "total-noncompliant: this is a regulation which is not compliant with the provided text at all. for this provide total-noncompliant-desc (a very short explanation why it is not compliant)\n",
    "try not to change the text too much, change the important logics in order to achieve noncompliance. give the answer in json format. look at the sample to understand better.\n",
    "<sample>\n",
    "text = \"شوراي اقتصاد در جلسه مورخ 23 /12 /1383،  بنا به درخواست شماره 20924 /11 مورخ 18 /11 /1383 آن وزارتخانه، احداث و بهره برداري منطقه يك آزادراه تهران- شمال به طول سي و دو (32) كيلومتر توسط شركت آزادراه تهران- شمال با استفاده از تسهيلات مالي خارجي را به استناد جزء ۱ بند «ج» ماده ۸۵ قانون برنامه سوم توسعه اقتصادي، اجتماعي و فرهنگي جمهوري اسلامي ايران مورد بررسي قرارداد و ضمن تاييد توجيه فني و اقتصادي طرح مذكور با اجراي آن مشروط به رعايت موارد زير موافقت نمود: 1 (اصلاحي 16ˏ02ˏ1385)– حداكثر مبلغ سي و چهار ميليون و هفتصد و هشتاد و دو هزار و هفتصد و نود و دو (792 /782 /34) دلار به عنوان پيش پرداخت و ميان پرداخت، به علاوه يكصد و هشتاد و هفت ميليون (000 /000 /187) دلار تسهيلات فاينانس به صورت خالص و هزينه هاي تبعي مشتمل بر سود و كارمزد، بيمه و ساير هزينه ها معادل شصت و هفت ميليون و چهارصد و هفتاد و پنج هزار و چهارصد و شصت و نه و سي و سه صدم (33 /469 /475 /67) دلار از محل تسهيلات جزء 1 بند «ز» تبصره 21 قانون بودجه سال 1381 كل كشور، اختصاص يابد. ۲- شرايط زيست محيطي رعايت گردد. ۳- حداقل معادل شصت و پنج درصد (۶۵ ٪) ارزش عمليات اجرايي كل طرح با استفاده از امكانات و توانايي هاي ساخت داخل انجام گيرد. ۴- معادل پنجاه درصد (۵۰ ٪) بازپرداخت تسهيلات دريافتي توسط بنياد مستضعفان و جانبازان تضمين و بازپرداخت گردد. ۵- مبلغ پيش پرداخت و ميان پرداخت تسهيلات مذكور توسط بنياد مستضعفان و جانبازان تامين و پرداخت گردد. ۶- بازپرداخت تسهيلات دريافتي بر اساس جدول پيوست و با تاييد بانك مركزي جمهوري اسلامي ايران انجام شود. ۷- اعتبار اين مصوبه تا زمان گشايش اعتبار اسنادي حداكثر، مدت يك سال از زمان صدور مصوبه مي باشد. ۸ - وزارت راه و ترابري مكلف است، تا شروع بهره برداري از طرح گزارش پيشرفت كار را در مقاطع شش ماهه به سازمان مديريت و برنامه ريزي كشور ارايه نمايد. حميد شركاء معاون رييس جمهور و رييس سازمان اصلاح مصوبه آزادراه تهران – شمال -پيوست مصوبه شماره 27901 /309 مورخ 23 /2 /1385 شوراي اقتصاد زمانبندي بازپرداخت تسهيلات دريافتي واحد: دلار\"\n",
    "test_data = {\n",
    "    \"compliant\": \"شوراي اقتصاد در جلسه احداث و بهره برداري منطقه يك آزادراه تهران- شمال به طول سي و دو (32) كيلومتر توسط شركت آزادراه تهران- شمال با استفاده از تسهيلات مالي خارجي را به استناد جزء ۱ بند «ج» ماده ۸۵ قانون برنامه سوم توسعه اقتصادي، اجتماعي و فرهنگي جمهوري اسلامي ايران مورد بررسي قرارداد و ضمن تاييد توجيه فني و اقتصادي طرح مذكور با اجراي آن مشروط به رعايت موارد زير موافقت نمود: 1 (اصلاحي 16ˏ02ˏ1385)– حداكثر مبلغ سي و چهار ميليون و هفتصد و هشتاد و دو هزار و هفتصد و نود و دو (792 /782 /34) دلار به عنوان پيش پرداخت و ميان پرداخت، به علاوه يكصد و هشتاد و هفت ميليون (000 /000 /187) دلار تسهيلات فاينانس به صورت خالص و هزينه هاي تبعي مشتمل بر سود و كارمزد، بيمه و ساير هزينه ها معادل شصت و هفت ميليون و چهارصد و هفتاد و پنج هزار و چهارصد و شصت و نه و سي و سه صدم (33 /469 /475 /67) دلار از محل تسهيلات جزء 1 بند «ز» تبصره 21 قانون بودجه سال 1381 كل كشور، اختصاص يابد. ۲- شرايط زيست محيطي رعايت گردد. ۳- حداقل معادل هشتاد و پنج درصد (۸۵ ٪) ارزش عمليات اجرايي كل طرح با استفاده از امكانات و توانايي هاي ساخت داخل انجام گيرد. ۴- معادل پنجاه درصد (۵۰ ٪) بازپرداخت تسهيلات دريافتي توسط بنياد مستضعفان و جانبازان تضمين و بازپرداخت گردد. ۵- مبلغ پيش پرداخت و ميان پرداخت تسهيلات مذكور توسط بنياد مستضعفان و جانبازان تامين و پرداخت گردد. ۶- بازپرداخت تسهيلات دريافتي بر اساس جدول پيوست و با تاييد بانك مركزي جمهوري اسلامي ايران انجام شود. ۷- اعتبار اين مصوبه تا زمان گشايش اعتبار اسنادي حداكثر، مدت يك سال از زمان صدور مصوبه مي باشد. ۸ - وزارت راه و ترابري مكلف است، تا شروع بهره برداري از طرح گزارش پيشرفت كار را در مقاطع شش ماهه به سازمان مديريت و برنامه ريزي كشور ارايه نمايد. واحد: دلار\",\n",
    "    \"sentence-noncompliant\": \"شوراي اقتصاد در جلسه احداث و بهره برداري منطقه يك آزادراه تهران- شمال به طول سي و دو (32) كيلومتر توسط شركت آزادراه تهران- شمال با استفاده از تسهيلات مالي خارجي را به استناد جزء ۱ بند «ج» ماده ۸۵ قانون برنامه سوم توسعه اقتصادي، اجتماعي و فرهنگي جمهوري اسلامي ايران مورد بررسي قرارداد و ضمن تاييد توجيه فني و اقتصادي طرح مذكور با اجراي آن مشروط به رعايت موارد زير موافقت نمود: 1 (اصلاحي 16ˏ02ˏ1385)– حداكثر مبلغ سي و چهار ميليون و هفتصد و هشتاد و دو هزار و هفتصد و نود و دو (792 /782 /34) دلار به عنوان پيش پرداخت و ميان پرداخت، به علاوه يكصد و هشتاد و هفت ميليون (000 /000 /187) دلار تسهيلات فاينانس به صورت خالص و هزينه هاي تبعي مشتمل بر سود و كارمزد، بيمه و ساير هزينه ها معادل شصت و هفت ميليون و چهارصد و هفتاد و پنج هزار و چهارصد و شصت و نه و سي و سه صدم (33 /469 /475 /67) دلار از محل تسهيلات جزء 1 بند «ز» تبصره 21 قانون بودجه سال 1381 كل كشور، اختصاص يابد. ۲- نیازی به رعایت شرايط زيست محيطي نیست. ۳- حداقل معادل شصت و پنج درصد (۶۵ ٪) ارزش عمليات اجرايي كل طرح با استفاده از امكانات و توانايي هاي ساخت داخل انجام گيرد. ۴- معادل پنجاه درصد (۵۰ ٪) بازپرداخت تسهيلات دريافتي توسط بنياد مستضعفان و جانبازان تضمين و بازپرداخت گردد. ۵- مبلغ پيش پرداخت و ميان پرداخت تسهيلات مذكور توسط بنياد مستضعفان و جانبازان تامين و پرداخت گردد. ۶- بازپرداخت تسهيلات دريافتي بر اساس جدول پيوست و با تاييد بانك مركزي جمهوري اسلامي ايران انجام شود. ۷- اعتبار اين مصوبه تا زمان گشايش اعتبار اسنادي حداكثر، مدت يك سال از زمان صدور مصوبه مي باشد. ۸ - وزارت راه و ترابري مكلف است، تا شروع بهره برداري از طرح گزارش پيشرفت كار را در مقاطع شش ماهه به سازمان مديريت و برنامه ريزي كشور ارايه نمايد. واحد: دلار\",\n",
    "    \"sentence-noncompliant-desc\": \"به جز رعایت شرایط زیست محیطی بقیه موارد منطبق است.\",\n",
    "    \"half-noncompliant\": \"شوراي اقتصاد در جلسه احداث و بهره برداري منطقه يك آزادراه تهران- شمال به طول سي و دو (32) كيلومتر توسط شركت آزادراه تهران- شمال با استفاده از تسهيلات مالي خارجي را به استناد جزء ۱ بند «ج» ماده ۸۵ قانون برنامه سوم توسعه اقتصادي، اجتماعي و فرهنگي جمهوري اسلامي ايران مورد بررسي قرارداد و ضمن تاييد توجيه فني و اقتصادي طرح مذكور با اجراي آن مشروط به رعايت موارد زير موافقت نمود: 1 (اصلاحي 16ˏ02ˏ1385)– حداكثر مبلغ سي و چهار ميليون و هفتصد و هشتاد و دو هزار و هفتصد و نود و دو (792 /782 /34) دلار به عنوان پيش پرداخت و ميان پرداخت، به علاوه يكصد و هشتاد و هفت ميليون (000 /000 /187) دلار تسهيلات فاينانس به صورت خالص و هزينه هاي تبعي مشتمل بر سود و كارمزد، بيمه و ساير هزينه ها معادل شصت و هفت ميليون و چهارصد و هفتاد و پنج هزار و چهارصد و شصت و نه و سي و سه صدم (33 /469 /475 /67) دلار از محل تسهيلات جزء 1 بند «ز» تبصره 21 قانون بودجه سال 1381 كل كشور، اختصاص يابد. ۲- نیازی به رعایت شرايط زيست محيطي نیست. ۳- حداقل معادل پنج درصد (۵ ٪) ارزش عمليات اجرايي كل طرح با استفاده از امكانات و توانايي هاي ساخت داخل انجام گيرد. ۴- معادل ده درصد (۱۰ ٪) بازپرداخت تسهيلات دريافتي توسط بنياد مستضعفان و جانبازان تضمين و بازپرداخت گردد. ۵- مبلغ پيش پرداخت و ميان پرداخت تسهيلات مذكور توسط وزارت راه و شهرسازی تامين و پرداخت گردد. ۶- بازپرداخت تسهيلات دريافتي بر اساس جدول پيوست و با تاييد بانك مركزي جمهوري اسلامي ايران انجام شود. ۷- اعتبار اين مصوبه تا زمان گشايش اعتبار اسنادي حداكثر، مدت يك سال از زمان صدور مصوبه مي باشد. ۸ - وزارت راه و ترابري مكلف است، تا شروع بهره برداري از طرح گزارش پيشرفت كار را در مقاطع شش ماهه به سازمان مديريت و برنامه ريزي كشور ارايه نمايد. واحد: دلار\",\n",
    "    \"half-noncompliant-desc\": \"این موارد منطبق با قوانین نیست: ۱. شرایط زیست محیطی ۲. میزان استفاده از امکانات و توانایی های ساخت داخل ۳. میزان بازپرداخت تسهیلات دریافتی توسط بنیاد مستضعفان ۴. نهادی که مبلغ پیش پرداخت و میان پرداخت را پرداخت می‌کند (از بنیاد مستضعفان به وزارت راه و شهرسازی تغییر یافته است)\",\n",
    "    \"total-noncompliant\": \"شوراي اقتصاد در جلسه احداث و بهره برداري منطقه يك آزادراه تهران- شمال به طول سي و دو (32) كيلومتر توسط شركت آزادراه تهران- شمال با استفاده از تسهيلات مالي خارجي را به استناد جزء ۱ بند «ج» ماده ۸۵ قانون برنامه سوم توسعه اقتصادي، اجتماعي و فرهنگي جمهوري اسلامي ايران مورد بررسي قرارداد و ضمن تاييد توجيه فني و اقتصادي طرح مذكور با اجراي آن مشروط به رعايت موارد زير موافقت نمود: 1 - به هر میزان تسهیلات مورد نیاز پرداخت می‌شود. ۲- نیاز به رعایت هیچ شرایط خاصی نیست. ۳- نیازی به استفاده از زیرساخت و توانایی داخلی نیست. ۴- بازپرداخت تسهيلات دريافتي توسط وزارت راه و شهرسازی تضمين و بازپرداخت گردد. ۵- مبلغ پيش پرداخت و ميان پرداخت تسهيلات مذكور توسط وزارت راه و شهرسازی تامين و پرداخت گردد. ۶- بازپرداخت تسهيلات دريافتي به هر شکل پرداخت شود و نیازی به رعایت مورد خاصی نیست. ۷- اعتبار اين مصوبه نامحدود است. ۸ - نیازی به گزارش میزان پیشرفت پروژه نیست. واحد: دلار\",\n",
    "    \"total-noncompliant-desc\": \"با قوانین منطبق نیست و هیچ کدام از شروط احداث آزادراه بیان نشده است.\"\n",
    "}\n",
    "</sample>\n",
    "now create test data for this:\n",
    "text = \"text_placeholder\"'''"
   ]
  },
  {
   "cell_type": "code",
   "execution_count": 119,
   "id": "9170136f-75e5-4145-bfa8-1925cd1f4880",
   "metadata": {},
   "outputs": [
    {
     "name": "stdout",
     "output_type": "stream",
     "text": [
      "created test data for 2\n",
      "created test data for 3\n",
      "created test data for 4\n",
      "created test data for 5\n",
      "created test data for 6\n",
      "created test data for 7\n",
      "created test data for 8\n",
      "created test data for 9\n",
      "created test data for 10\n",
      "created test data for 11\n",
      "created test data for 12\n",
      "created test data for 13\n",
      "created test data for 14\n",
      "created test data for 15\n",
      "created test data for 16\n",
      "created test data for 17\n",
      "created test data for 18\n",
      "created test data for 19\n",
      "created test data for 20\n",
      "created test data for 21\n",
      "created test data for 22\n",
      "created test data for 23\n",
      "created test data for 24\n",
      "created test data for 25\n",
      "created test data for 26\n",
      "created test data for 27\n",
      "created test data for 28\n",
      "created test data for 29\n",
      "created test data for 31\n",
      "created test data for 32\n",
      "created test data for 33\n",
      "created test data for 34\n",
      "created test data for 35\n",
      "created test data for 36\n",
      "created test data for 37\n",
      "created test data for 38\n",
      "created test data for 39\n",
      "created test data for 40\n",
      "created test data for 41\n",
      "created test data for 42\n",
      "created test data for 43\n",
      "created test data for 44\n",
      "created test data for 45\n",
      "created test data for 46\n",
      "created test data for 47\n",
      "created test data for 48\n",
      "created test data for 49\n"
     ]
    }
   ],
   "source": [
    "for i in range(len(sample_rules)):\n",
    "    if i in [0, 1, 30]:\n",
    "        continue\n",
    "    prompt = test_creation_prompt.replace(\"text_placeholder\", sample_rules[i][\"text\"])\n",
    "    result = call_gemini(prompt)\n",
    "    test_data = json.loads(result.replace(\"json\", \"\").replace(\"```\", \"\"))\n",
    "    sample_rules[i].update(test_data)\n",
    "    print(f'created test data for {i}')"
   ]
  },
  {
   "cell_type": "code",
   "execution_count": 120,
   "id": "8d4d4fd8-3ce4-4ab5-ac36-1fc692fe768b",
   "metadata": {},
   "outputs": [],
   "source": [
    "with open(\"test_data_sample.json\", \"w\", encoding=\"utf-8\") as f:\n",
    "    json.dump(sample_rules, f, indent=4, ensure_ascii=False)"
   ]
  },
  {
   "cell_type": "code",
   "execution_count": 122,
   "id": "da7e5f71-baac-44ff-ac41-b369448ca630",
   "metadata": {},
   "outputs": [],
   "source": [
    "test_data_df = pd.DataFrame(sample_rules)"
   ]
  },
  {
   "cell_type": "code",
   "execution_count": 124,
   "id": "021c2097-9984-4c80-9f0e-e5d919d3bae9",
   "metadata": {
    "scrolled": true
   },
   "outputs": [
    {
     "data": {
      "text/html": [
       "<div>\n",
       "<style scoped>\n",
       "    .dataframe tbody tr th:only-of-type {\n",
       "        vertical-align: middle;\n",
       "    }\n",
       "\n",
       "    .dataframe tbody tr th {\n",
       "        vertical-align: top;\n",
       "    }\n",
       "\n",
       "    .dataframe thead th {\n",
       "        text-align: right;\n",
       "    }\n",
       "</style>\n",
       "<table border=\"1\" class=\"dataframe\">\n",
       "  <thead>\n",
       "    <tr style=\"text-align: right;\">\n",
       "      <th></th>\n",
       "      <th>id</th>\n",
       "      <th>title</th>\n",
       "      <th>date</th>\n",
       "      <th>authority</th>\n",
       "      <th>link</th>\n",
       "      <th>text</th>\n",
       "      <th>compliant</th>\n",
       "      <th>sentence-noncompliant</th>\n",
       "      <th>sentence-noncompliant-desc</th>\n",
       "      <th>half-noncompliant</th>\n",
       "      <th>half-noncompliant-desc</th>\n",
       "      <th>total-noncompliant</th>\n",
       "      <th>total-noncompliant-desc</th>\n",
       "    </tr>\n",
       "  </thead>\n",
       "  <tbody>\n",
       "    <tr>\n",
       "      <th>0</th>\n",
       "      <td>168105800935523098</td>\n",
       "      <td>مصوبه هيأت مديره سازمان بورس و اوراق بهادار در...</td>\n",
       "      <td>1403/07/03</td>\n",
       "      <td>هيات مديره سازمان بورس و اوراق بهادار</td>\n",
       "      <td>https://qavanin.ir/Law/TreeText/?IDS=168105800...</td>\n",
       "      <td>بند ۲ نهصد و پنجاه و هفتمين صورتجلسه هيئت مدير...</td>\n",
       "      <td>پیرو نامه شماره ۱۲۱/۲۷۰۰۷۷ مورخ ۱۴۰۳/۰۴/۱۳ در ...</td>\n",
       "      <td>پیرو نامه شماره ۱۲۱/۲۷۰۰۷۷ مورخ ۱۴۰۳/۰۴/۱۳ در ...</td>\n",
       "      <td>مهلت تعیین شده برای فروش سهام (یک سال) با مهلت...</td>\n",
       "      <td>پیرو نامه شماره ۱۲۱/۲۷۰۰۷۷ مورخ ۱۴۰۳/۰۴/۱۳ در ...</td>\n",
       "      <td>موارد زیر با مصوبه اصلی مغایرت دارد: ۱. نام شر...</td>\n",
       "      <td>پیرو نامه شماره ۱۲۱/۲۷۰۰۷۷ مورخ ۱۴۰۳/۰۴/۱۳، هی...</td>\n",
       "      <td>این متن کاملاً نامنطبق است؛ اصل مصوبه که موافق...</td>\n",
       "    </tr>\n",
       "    <tr>\n",
       "      <th>1</th>\n",
       "      <td>10881107711898648217</td>\n",
       "      <td>ابلاغ بخشنامه شماره (1) اجراي برنامه اقدام سند...</td>\n",
       "      <td>1403/03/23</td>\n",
       "      <td>وزارت امور اقتصادي و دارايي</td>\n",
       "      <td>https://qavanin.ir/Law/TreeText/?IDS=108811077...</td>\n",
       "      <td>نظر به اينكه اجراي برنامه اقدام مرتبط با سند م...</td>\n",
       "      <td>نظر به اينكه اجراي برنامه اقدام مرتبط با سند م...</td>\n",
       "      <td>نظر به اينكه اجراي برنامه اقدام مرتبط با سند م...</td>\n",
       "      <td>مغایرت در بند ۴: شرط استعلام صحت وکالتنامه رسم...</td>\n",
       "      <td>نظر به اينكه اجراي برنامه اقدام مرتبط با سند م...</td>\n",
       "      <td>در موارد ۱ و ۲ و ۳ و ۶ با متن اصلی مغایرت دارد...</td>\n",
       "      <td>نظر به اينكه اجراي برنامه اقدام مرتبط با سند م...</td>\n",
       "      <td>تقریباً تمام بندهای ابلاغیه اصلی، از جمله شناس...</td>\n",
       "    </tr>\n",
       "    <tr>\n",
       "      <th>2</th>\n",
       "      <td>14577431515650319208</td>\n",
       "      <td>مصوبه هيأت مديره سازمان بورس و اوراق بهادار در...</td>\n",
       "      <td>1403/02/23</td>\n",
       "      <td>هيات مديره سازمان بورس و اوراق بهادار</td>\n",
       "      <td>https://qavanin.ir/Law/TreeText/?IDS=145774315...</td>\n",
       "      <td>بند 1 نهصد و سي و دومين صورتجلسه هيئت مديره سا...</td>\n",
       "      <td>بند 1 نهصد و سي و دومين صورتجلسه هيئت مديره سا...</td>\n",
       "      <td>بند 1 نهصد و سي و دومين صورتجلسه هيئت مديره سا...</td>\n",
       "      <td>سقف انتشار اوراق به جای تعیین بر اساس جدول بان...</td>\n",
       "      <td>بند 1 نهصد و سي و دومين صورتجلسه هيئت مديره سا...</td>\n",
       "      <td>مبنای قانونی (قانون تجارت) و نحوه تعیین سقف (د...</td>\n",
       "      <td>بنا بر اطلاعيه مديريت نظارت بر بازار اوليه مور...</td>\n",
       "      <td>این متن به طور کامل با قانون اصلی در تضاد است ...</td>\n",
       "    </tr>\n",
       "    <tr>\n",
       "      <th>3</th>\n",
       "      <td>17349917818789608910</td>\n",
       "      <td>بخشنامه سازمان امور مالياتي درخصوص رفع ابهام ا...</td>\n",
       "      <td>1402/12/28</td>\n",
       "      <td>سازمان امور مالياتي</td>\n",
       "      <td>https://qavanin.ir/Law/TreeText/?IDS=173499178...</td>\n",
       "      <td>به منظور ايجاد وحدت رويه در محاسبه جرائم موضوع...</td>\n",
       "      <td>به منظور ايجاد وحدت رويه در محاسبه جرائم موضوع...</td>\n",
       "      <td>به منظور ايجاد وحدت رويه در محاسبه جرائم موضوع...</td>\n",
       "      <td>در بند ۴، جریمه ماده ۳۵ پس از استقرار سامانه م...</td>\n",
       "      <td>به منظور ايجاد وحدت رويه در محاسبه جرائم موضوع...</td>\n",
       "      <td>در بند ۱، مأخذ محاسبه جریمه از «مالیات پرداخت ...</td>\n",
       "      <td>به منظور ايجاد وحدت رويه در محاسبه جرائم موضوع...</td>\n",
       "      <td>متن در تمام بندها با بخشنامه اصلی مغایرت دارد:...</td>\n",
       "    </tr>\n",
       "    <tr>\n",
       "      <th>4</th>\n",
       "      <td>6627930918218609784</td>\n",
       "      <td>مصوبه سازمان بورس و اوراق بهادار در خصوص اصلاح...</td>\n",
       "      <td>1402/08/04</td>\n",
       "      <td>هيات مديره سازمان بورس و اوراق بهادار</td>\n",
       "      <td>https://qavanin.ir/Law/TreeText/?IDS=662793091...</td>\n",
       "      <td>هشتصد و نود و هشتمين صورتجلسة هيئت مديره سازما...</td>\n",
       "      <td>هشتصد و نود و هشتمين صورتجلسة هيئت مديره سازما...</td>\n",
       "      <td>هشتصد و نود و هشتمين صورتجلسة هيئت مديره سازما...</td>\n",
       "      <td>برخلاف متن اصلی که مصوبه را تایید می‌کند، در ا...</td>\n",
       "      <td>هشتصد و نود و هشتمين صورتجلسة هيئت مديره سازما...</td>\n",
       "      <td>تاریخ جلسه، نهاد پیشنهاد دهنده، موضوع پیشنهاد ...</td>\n",
       "      <td>در جلسه مورخ ۰۴ /۰۸ /۱۴۰۲، وزارت امور اقتصادی ...</td>\n",
       "      <td>این متن به طور کامل با مصوبه اصلی در تضاد است؛...</td>\n",
       "    </tr>\n",
       "  </tbody>\n",
       "</table>\n",
       "</div>"
      ],
      "text/plain": [
       "                     id                                              title  \\\n",
       "0    168105800935523098  مصوبه هيأت مديره سازمان بورس و اوراق بهادار در...   \n",
       "1  10881107711898648217  ابلاغ بخشنامه شماره (1) اجراي برنامه اقدام سند...   \n",
       "2  14577431515650319208  مصوبه هيأت مديره سازمان بورس و اوراق بهادار در...   \n",
       "3  17349917818789608910  بخشنامه سازمان امور مالياتي درخصوص رفع ابهام ا...   \n",
       "4   6627930918218609784  مصوبه سازمان بورس و اوراق بهادار در خصوص اصلاح...   \n",
       "\n",
       "         date                              authority  \\\n",
       "0  1403/07/03  هيات مديره سازمان بورس و اوراق بهادار   \n",
       "1  1403/03/23            وزارت امور اقتصادي و دارايي   \n",
       "2  1403/02/23  هيات مديره سازمان بورس و اوراق بهادار   \n",
       "3  1402/12/28                    سازمان امور مالياتي   \n",
       "4  1402/08/04  هيات مديره سازمان بورس و اوراق بهادار   \n",
       "\n",
       "                                                link  \\\n",
       "0  https://qavanin.ir/Law/TreeText/?IDS=168105800...   \n",
       "1  https://qavanin.ir/Law/TreeText/?IDS=108811077...   \n",
       "2  https://qavanin.ir/Law/TreeText/?IDS=145774315...   \n",
       "3  https://qavanin.ir/Law/TreeText/?IDS=173499178...   \n",
       "4  https://qavanin.ir/Law/TreeText/?IDS=662793091...   \n",
       "\n",
       "                                                text  \\\n",
       "0  بند ۲ نهصد و پنجاه و هفتمين صورتجلسه هيئت مدير...   \n",
       "1  نظر به اينكه اجراي برنامه اقدام مرتبط با سند م...   \n",
       "2  بند 1 نهصد و سي و دومين صورتجلسه هيئت مديره سا...   \n",
       "3  به منظور ايجاد وحدت رويه در محاسبه جرائم موضوع...   \n",
       "4  هشتصد و نود و هشتمين صورتجلسة هيئت مديره سازما...   \n",
       "\n",
       "                                           compliant  \\\n",
       "0  پیرو نامه شماره ۱۲۱/۲۷۰۰۷۷ مورخ ۱۴۰۳/۰۴/۱۳ در ...   \n",
       "1  نظر به اينكه اجراي برنامه اقدام مرتبط با سند م...   \n",
       "2  بند 1 نهصد و سي و دومين صورتجلسه هيئت مديره سا...   \n",
       "3  به منظور ايجاد وحدت رويه در محاسبه جرائم موضوع...   \n",
       "4  هشتصد و نود و هشتمين صورتجلسة هيئت مديره سازما...   \n",
       "\n",
       "                               sentence-noncompliant  \\\n",
       "0  پیرو نامه شماره ۱۲۱/۲۷۰۰۷۷ مورخ ۱۴۰۳/۰۴/۱۳ در ...   \n",
       "1  نظر به اينكه اجراي برنامه اقدام مرتبط با سند م...   \n",
       "2  بند 1 نهصد و سي و دومين صورتجلسه هيئت مديره سا...   \n",
       "3  به منظور ايجاد وحدت رويه در محاسبه جرائم موضوع...   \n",
       "4  هشتصد و نود و هشتمين صورتجلسة هيئت مديره سازما...   \n",
       "\n",
       "                          sentence-noncompliant-desc  \\\n",
       "0  مهلت تعیین شده برای فروش سهام (یک سال) با مهلت...   \n",
       "1  مغایرت در بند ۴: شرط استعلام صحت وکالتنامه رسم...   \n",
       "2  سقف انتشار اوراق به جای تعیین بر اساس جدول بان...   \n",
       "3  در بند ۴، جریمه ماده ۳۵ پس از استقرار سامانه م...   \n",
       "4  برخلاف متن اصلی که مصوبه را تایید می‌کند، در ا...   \n",
       "\n",
       "                                   half-noncompliant  \\\n",
       "0  پیرو نامه شماره ۱۲۱/۲۷۰۰۷۷ مورخ ۱۴۰۳/۰۴/۱۳ در ...   \n",
       "1  نظر به اينكه اجراي برنامه اقدام مرتبط با سند م...   \n",
       "2  بند 1 نهصد و سي و دومين صورتجلسه هيئت مديره سا...   \n",
       "3  به منظور ايجاد وحدت رويه در محاسبه جرائم موضوع...   \n",
       "4  هشتصد و نود و هشتمين صورتجلسة هيئت مديره سازما...   \n",
       "\n",
       "                              half-noncompliant-desc  \\\n",
       "0  موارد زیر با مصوبه اصلی مغایرت دارد: ۱. نام شر...   \n",
       "1  در موارد ۱ و ۲ و ۳ و ۶ با متن اصلی مغایرت دارد...   \n",
       "2  مبنای قانونی (قانون تجارت) و نحوه تعیین سقف (د...   \n",
       "3  در بند ۱، مأخذ محاسبه جریمه از «مالیات پرداخت ...   \n",
       "4  تاریخ جلسه، نهاد پیشنهاد دهنده، موضوع پیشنهاد ...   \n",
       "\n",
       "                                  total-noncompliant  \\\n",
       "0  پیرو نامه شماره ۱۲۱/۲۷۰۰۷۷ مورخ ۱۴۰۳/۰۴/۱۳، هی...   \n",
       "1  نظر به اينكه اجراي برنامه اقدام مرتبط با سند م...   \n",
       "2  بنا بر اطلاعيه مديريت نظارت بر بازار اوليه مور...   \n",
       "3  به منظور ايجاد وحدت رويه در محاسبه جرائم موضوع...   \n",
       "4  در جلسه مورخ ۰۴ /۰۸ /۱۴۰۲، وزارت امور اقتصادی ...   \n",
       "\n",
       "                             total-noncompliant-desc  \n",
       "0  این متن کاملاً نامنطبق است؛ اصل مصوبه که موافق...  \n",
       "1  تقریباً تمام بندهای ابلاغیه اصلی، از جمله شناس...  \n",
       "2  این متن به طور کامل با قانون اصلی در تضاد است ...  \n",
       "3  متن در تمام بندها با بخشنامه اصلی مغایرت دارد:...  \n",
       "4  این متن به طور کامل با مصوبه اصلی در تضاد است؛...  "
      ]
     },
     "execution_count": 124,
     "metadata": {},
     "output_type": "execute_result"
    }
   ],
   "source": [
    "test_data_df.head()"
   ]
  },
  {
   "cell_type": "code",
   "execution_count": null,
   "id": "2ba59da6-d7e0-4fab-bb52-52eea3afcf9d",
   "metadata": {},
   "outputs": [],
   "source": []
  }
 ],
 "metadata": {
  "kernelspec": {
   "display_name": "Python 3 (ipykernel)",
   "language": "python",
   "name": "python3"
  },
  "language_info": {
   "codemirror_mode": {
    "name": "ipython",
    "version": 3
   },
   "file_extension": ".py",
   "mimetype": "text/x-python",
   "name": "python",
   "nbconvert_exporter": "python",
   "pygments_lexer": "ipython3",
   "version": "3.12.7"
  }
 },
 "nbformat": 4,
 "nbformat_minor": 5
}
